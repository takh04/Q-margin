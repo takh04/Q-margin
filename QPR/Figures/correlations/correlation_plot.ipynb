{
 "cells": [
  {
   "cell_type": "code",
   "execution_count": null,
   "metadata": {},
   "outputs": [],
   "source": [
    "import numpy as np\n",
    "import matplotlib.pyplot as plt\n",
    "\n",
    "\n",
    "def get_correlations(g):\n",
    "    r_list = [0.0, 0.5, 1.0]\n",
    "    correlations = np.zeros((2, 3, 6))\n",
    "    for i, r in enumerate(r_list):\n",
    "        PATH = f'../../results_correlation/r={r}/'\n",
    "        if g:\n",
    "            MI_list = np.load(PATH + 'MI_g_mu_list.npy')\n",
    "            Tau_list = np.load(PATH + 'Tau_g_mu_list.npy')\n",
    "            p_list = np.load(PATH + 'p_value_g_mu_list.npy')\n",
    "        else:\n",
    "            MI_list = np.load(PATH + 'MI_test_mu_list.npy')\n",
    "            Tau_list = np.load(PATH + 'Tau_test_mu_list.npy')\n",
    "            p_list = np.load(PATH + 'p_value_test_mu_list.npy')\n",
    "        correlations[0][i] = MI_list\n",
    "        correlations[1][i] = Tau_list\n",
    "    return correlations"
   ]
  },
  {
   "cell_type": "code",
   "execution_count": null,
   "metadata": {},
   "outputs": [],
   "source": [
    "def plot_correlations(g):\n",
    "    fig, axs = plt.subplots(1,2)\n",
    "    plt.rcParams.update({'font.size': 12})\n",
    "    position = [0, 0.5, 1.0]\n",
    "    markers = [\"^\", \"v\", \"o\", \"x\", \"+\", \"D\"]\n",
    "    complexity_measures = [\"margin (Q1)\", \"margin (median)\", \"margin (mean)\", \"num. params\", \"num. eff. params. (0.5)\", \"num. eff. params. (0.1)\"]\n",
    "    ylabels = [\"Mutual Information\", \"Kendall's Tau\"]\n",
    "    correlations = get_correlations(g)\n",
    "    for i in range(2):\n",
    "        for l in range(6):\n",
    "            axs[i].plot(position, correlations[i, :, l], label=f'{complexity_measures[l]}', marker=markers[l])\n",
    "        axs[i].set_xticks([0, 0.5, 1.0])\n",
    "        axs[i].set_xticklabels(['r=0', 'r=0.5', 'r=1.0'])\n",
    "        axs[i].set_ylabel(f'{ylabels[i]}')\n",
    "        axs[i].legend()\n",
    "    \n",
    "    plt.savefig(f'correlations_plot_generalization={g}.pdf')\n",
    "    plt.show()"
   ]
  },
  {
   "cell_type": "code",
   "execution_count": null,
   "metadata": {},
   "outputs": [],
   "source": [
    "plot_correlations(True)"
   ]
  },
  {
   "cell_type": "code",
   "execution_count": null,
   "metadata": {},
   "outputs": [],
   "source": [
    "plot_correlations(False)"
   ]
  },
  {
   "cell_type": "code",
   "execution_count": null,
   "metadata": {},
   "outputs": [],
   "source": []
  }
 ],
 "metadata": {
  "kernelspec": {
   "display_name": "base",
   "language": "python",
   "name": "python3"
  },
  "language_info": {
   "codemirror_mode": {
    "name": "ipython",
    "version": 3
   },
   "file_extension": ".py",
   "mimetype": "text/x-python",
   "name": "python",
   "nbconvert_exporter": "python",
   "pygments_lexer": "ipython3",
   "version": "3.9.13"
  }
 },
 "nbformat": 4,
 "nbformat_minor": 2
}
